{
 "cells": [
  {
   "cell_type": "code",
   "execution_count": null,
   "metadata": {},
   "outputs": [],
   "source": [
    "#Well Trajectory Calculation\n",
    "#Referance H. Rabia"
   ]
  },
  {
   "cell_type": "code",
   "execution_count": 1,
   "metadata": {},
   "outputs": [],
   "source": [
    "import numpy as np\n",
    "import matplotlib.pyplot as plt\n",
    "import pandas as pd\n",
    "import math"
   ]
  },
  {
   "cell_type": "code",
   "execution_count": 2,
   "metadata": {},
   "outputs": [
    {
     "name": "stdout",
     "output_type": "stream",
     "text": [
      "Enter True Vertical Depth @ seaction1 (ft)1150\n",
      "Enter northing co-ordinate @ Seaction1 (ft)350\n",
      "Enter easting co-ordinate @ Seaction1 (ft)550\n",
      "Enter Target Bearing(Degree)65\n",
      "Enter Total Measured Depth(ft)200\n",
      "Enter Inclination @seaction1(degree)15\n",
      "Enter Inclination @seaction2(degree)19\n",
      "Enter corrected azimuth @ seaction1(degree)45\n",
      "Enter corrected azimuth @ seaction2(degree)55\n",
      "3.141592653589793\n",
      "Enter Vertical Seaction(ft)646.3\n"
     ]
    }
   ],
   "source": [
    "TVD1 = float(input(\"Enter True Vertical Depth @ seaction1 (ft)\"))\n",
    "del_N1 = float(input(\"Enter northing co-ordinate @ Seaction1 (ft)\"))\n",
    "del_E1 = float(input(\"Enter easting co-ordinate @ Seaction1 (ft)\"))\n",
    "TB = float(input(\"Enter Target Bearing(Degree)\"))\n",
    "MD = float(input(\"Enter Total Measured Depth(ft)\"))\n",
    "I1 = float(input(\"Enter Inclination @seaction1(degree)\"))\n",
    "I2 = float(input(\"Enter Inclination @seaction2(degree)\"))\n",
    "A1 = float(input(\"Enter corrected azimuth @ seaction1(degree)\"))\n",
    "A2 = float(input(\"Enter corrected azimuth @ seaction2(degree)\"))\n",
    "P = print(math.pi)\n",
    "VS = float(input(\"Enter Vertical Seaction(ft)\"))"
   ]
  },
  {
   "cell_type": "code",
   "execution_count": 3,
   "metadata": {},
   "outputs": [
    {
     "name": "stdout",
     "output_type": "stream",
     "text": [
      "The value of True vertical depth is 191.22211261389214 ft\n"
     ]
    }
   ],
   "source": [
    "TVD = 360*200*((math.sin(math.radians(I2)))-(math.sin(math.radians(I1))))/(2*(math.pi)*((I2)-(I1)))\n",
    "print(\"The value of True vertical depth is\",TVD,\"ft\")"
   ]
  },
  {
   "cell_type": "code",
   "execution_count": 4,
   "metadata": {},
   "outputs": [
    {
     "name": "stdout",
     "output_type": "stream",
     "text": [
      "The value of True vertical depth @ seaction 2 is 1341.222112613892 ft\n"
     ]
    }
   ],
   "source": [
    "#TVD at seaction 2\n",
    "TVD2 = TVD1+TVD\n",
    "print(\"The value of True vertical depth @ seaction 2 is\",TVD2,\"ft\")"
   ]
  },
  {
   "cell_type": "code",
   "execution_count": 5,
   "metadata": {},
   "outputs": [
    {
     "name": "stdout",
     "output_type": "stream",
     "text": [
      "the value of northing co-ordinate 37.5312707712474 ft sq.\n"
     ]
    }
   ],
   "source": [
    "del_N = 360**2*MD*((math.cos(math.radians(15)))-(math.cos(math.radians(19))))*((math.sin(math.radians(55)))-(math.sin(math.radians(45))))/(4*(math.pi**2)*(A2-A1)*(I2-I1))\n",
    "print(\"the value of northing co-ordinate\",del_N,\"ft sq.\")\n",
    "                                                                                                                                       "
   ]
  },
  {
   "cell_type": "code",
   "execution_count": 6,
   "metadata": {},
   "outputs": [
    {
     "name": "stdout",
     "output_type": "stream",
     "text": [
      "The vlaue of Increment of northing co-ordinate at seaction 2  387.5312707712474 ft sq.\n"
     ]
    }
   ],
   "source": [
    "# Increment of northing co-ordinate at seaction 2\n",
    "del_N2 = del_N1+del_N\n",
    "print(\"The vlaue of Increment of northing co-ordinate at seaction 2 \",del_N2,\"ft sq.\")"
   ]
  },
  {
   "cell_type": "code",
   "execution_count": 7,
   "metadata": {},
   "outputs": [
    {
     "name": "stdout",
     "output_type": "stream",
     "text": [
      "the value of easting co-ordinate 44.7280267762602 ft sq.\n"
     ]
    }
   ],
   "source": [
    "del_E = 360**2*MD*((math.cos(math.radians(15)))-(math.cos(math.radians(19))))*((math.cos(math.radians(45)))-(math.cos(math.radians(55))))/(4*(math.pi**2)*(A2-A1)*(I2-I1))\n",
    "print(\"the value of easting co-ordinate\",del_E,\"ft sq.\")"
   ]
  },
  {
   "cell_type": "code",
   "execution_count": 8,
   "metadata": {},
   "outputs": [
    {
     "name": "stdout",
     "output_type": "stream",
     "text": [
      "the value of easting co-ordinate 594.7280267762602 ft sq.\n"
     ]
    }
   ],
   "source": [
    "# Increment of easting co-ordinate at seaction 2\n",
    "del_E2 = del_E1+del_E\n",
    "print(\"the value of easting co-ordinate\",del_E2,\"ft sq.\")"
   ]
  },
  {
   "cell_type": "code",
   "execution_count": 11,
   "metadata": {},
   "outputs": [
    {
     "data": {
      "text/plain": [
       "14.997800142411734"
      ]
     },
     "execution_count": 11,
     "metadata": {},
     "output_type": "execute_result"
    }
   ],
   "source": [
    "#thita\n",
    "T=65-math.degrees(math.atan((44.73)/(37.53)))\n",
    "T"
   ]
  },
  {
   "cell_type": "code",
   "execution_count": 12,
   "metadata": {},
   "outputs": [
    {
     "name": "stdout",
     "output_type": "stream",
     "text": [
      "The value of vertical seaction is 56.39933956046272 ft\n"
     ]
    }
   ],
   "source": [
    "VS1 = math.sqrt((del_E**2)+(del_N**2))*(math.cos(math.radians(T)))\n",
    "print(\"The value of vertical seaction is\",VS1,\"ft\")"
   ]
  },
  {
   "cell_type": "code",
   "execution_count": 13,
   "metadata": {},
   "outputs": [
    {
     "name": "stdout",
     "output_type": "stream",
     "text": [
      "The value of vertical seaction is 702.6993395604627 ft\n"
     ]
    }
   ],
   "source": [
    "#vertical seaction at seaction 2\n",
    "VS2 = VS+VS1\n",
    "print(\"The value of vertical seaction is\",VS2,\"ft\")"
   ]
  },
  {
   "cell_type": "code",
   "execution_count": 30,
   "metadata": {},
   "outputs": [
    {
     "data": {
      "image/png": "[encoded data removed]",
      "text/plain": [
       "<Figure size 432x288 with 1 Axes>"
      ]
     },
     "metadata": {
      "needs_background": "light"
     },
     "output_type": "display_data"
    }
   ],
   "source": [
    "Y = [0,500,1000,1500,2000]\n",
    "X = [0,5,10,15,20]\n",
    "plt.plot(X,Y)\n",
    "plt.show()"
   ]
  },
  {
   "cell_type": "code",
   "execution_count": 15,
   "metadata": {},
   "outputs": [
    {
     "name": "stdout",
     "output_type": "stream",
     "text": [
      "The value of dog-leg is 0.9962839023231873 degree\n"
     ]
    }
   ],
   "source": [
    "#Cos DL is dog leg severity\n",
    "\n",
    "dl = (math.cos(math.radians(19-15)))-((math.sin(math.radians(15)))*(math.sin(math.radians(19))))*(1-(math.cos(math.radians(55-45))))\n",
    "print(\"The value of dog-leg is\",dl,\"degree\")"
   ]
  },
  {
   "cell_type": "code",
   "execution_count": 17,
   "metadata": {},
   "outputs": [
    {
     "data": {
      "text/plain": [
       "4.941010450247867"
      ]
     },
     "execution_count": 17,
     "metadata": {},
     "output_type": "execute_result"
    }
   ],
   "source": [
    "#to find cos inverce \n",
    "DL=(math.degrees(math.acos(dl)))\n",
    "DL"
   ]
  },
  {
   "cell_type": "code",
   "execution_count": 20,
   "metadata": {},
   "outputs": [
    {
     "name": "stdout",
     "output_type": "stream",
     "text": [
      "The value of dog-leg severity is 2.4705052251239334 deg/100ft\n"
     ]
    }
   ],
   "source": [
    "#dog -leg severity \n",
    "DLS= ((DL)/(MD)*(100))\n",
    "print(\"The value of dog-leg severity is\",DLS,\"deg/100ft\")"
   ]
  },
  {
   "cell_type": "code",
   "execution_count": null,
   "metadata": {},
   "outputs": [],
   "source": [
    "#AKSHAY MANJRAMKAR"
   ]
  }
 ],
 "metadata": {
  "kernelspec": {
   "display_name": "Python 3",
   "language": "python",
   "name": "python3"
  },
  "language_info": {
   "codemirror_mode": {
    "name": "ipython",
    "version": 3
   },
   "file_extension": ".py",
   "mimetype": "text/x-python",
   "name": "python",
   "nbconvert_exporter": "python",
   "pygments_lexer": "ipython3",
   "version": "3.8.5"
  }
 },
 "nbformat": 4,
 "nbformat_minor": 4
}
