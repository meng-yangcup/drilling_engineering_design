{
 "cells": [
  {
   "cell_type": "code",
   "execution_count": 1,
   "metadata": {},
   "outputs": [],
   "source": [
    "import numpy as np\n",
    "import matplotlib.pyplot as plt\n",
    "import pandas as pd"
   ]
  },
  {
   "cell_type": "code",
   "execution_count": 5,
   "metadata": {},
   "outputs": [
    {
     "name": "stdout",
     "output_type": "stream",
     "text": [
      "Enter Depth(ft)10000\n",
      "Enter mud weight(ppg)12.5\n",
      "Enter  kick(ppg)13\n",
      "Enter casing ID(inch)8.5\n",
      "Enter drill string OD(inch)5\n",
      "Enter kick volume(bbls)10\n"
     ]
    }
   ],
   "source": [
    "D = int(input(\"Enter Depth(ft)\"))\n",
    "MW = float(input(\"Enter mud weight(ppg)\"))              \n",
    "K = float(input(\"Enter  kick(ppg)\"))                \n",
    "ID = float(input(\"Enter casing ID(inch)\"))          \n",
    "Dod = float(input(\"Enter drill string OD(inch)\"))    \n",
    "V = float(input(\"Enter kick volume(bbls)\"))       "
   ]
  },
  {
   "cell_type": "code",
   "execution_count": 7,
   "metadata": {},
   "outputs": [
    {
     "data": {
      "text/html": [
       "<div>\n",
       "<style scoped>\n",
       "    .dataframe tbody tr th:only-of-type {\n",
       "        vertical-align: middle;\n",
       "    }\n",
       "\n",
       "    .dataframe tbody tr th {\n",
       "        vertical-align: top;\n",
       "    }\n",
       "\n",
       "    .dataframe thead th {\n",
       "        text-align: right;\n",
       "    }\n",
       "</style>\n",
       "<table border=\"1\" class=\"dataframe\">\n",
       "  <thead>\n",
       "    <tr style=\"text-align: right;\">\n",
       "      <th></th>\n",
       "      <th>Depth</th>\n",
       "      <th>HSP</th>\n",
       "      <th>FP</th>\n",
       "      <th>SIDPP</th>\n",
       "      <th>SICP</th>\n",
       "      <th>PAB</th>\n",
       "    </tr>\n",
       "  </thead>\n",
       "  <tbody>\n",
       "    <tr>\n",
       "      <th>1</th>\n",
       "      <td>1</td>\n",
       "      <td>0.65</td>\n",
       "      <td>0.676</td>\n",
       "      <td>0.026</td>\n",
       "      <td>115.49309</td>\n",
       "      <td>-25.467492</td>\n",
       "    </tr>\n",
       "    <tr>\n",
       "      <th>2</th>\n",
       "      <td>2</td>\n",
       "      <td>1.30</td>\n",
       "      <td>1.352</td>\n",
       "      <td>0.052</td>\n",
       "      <td>115.51909</td>\n",
       "      <td>-24.791492</td>\n",
       "    </tr>\n",
       "    <tr>\n",
       "      <th>3</th>\n",
       "      <td>3</td>\n",
       "      <td>1.95</td>\n",
       "      <td>2.028</td>\n",
       "      <td>0.078</td>\n",
       "      <td>115.54509</td>\n",
       "      <td>-24.115492</td>\n",
       "    </tr>\n",
       "    <tr>\n",
       "      <th>4</th>\n",
       "      <td>4</td>\n",
       "      <td>2.60</td>\n",
       "      <td>2.704</td>\n",
       "      <td>0.104</td>\n",
       "      <td>115.57109</td>\n",
       "      <td>-23.439492</td>\n",
       "    </tr>\n",
       "    <tr>\n",
       "      <th>5</th>\n",
       "      <td>5</td>\n",
       "      <td>3.25</td>\n",
       "      <td>3.380</td>\n",
       "      <td>0.130</td>\n",
       "      <td>115.59709</td>\n",
       "      <td>-22.763492</td>\n",
       "    </tr>\n",
       "    <tr>\n",
       "      <th>...</th>\n",
       "      <td>...</td>\n",
       "      <td>...</td>\n",
       "      <td>...</td>\n",
       "      <td>...</td>\n",
       "      <td>...</td>\n",
       "      <td>...</td>\n",
       "    </tr>\n",
       "    <tr>\n",
       "      <th>9996</th>\n",
       "      <td>9996</td>\n",
       "      <td>6497.40</td>\n",
       "      <td>6757.296</td>\n",
       "      <td>259.896</td>\n",
       "      <td>375.36309</td>\n",
       "      <td>6731.152508</td>\n",
       "    </tr>\n",
       "    <tr>\n",
       "      <th>9997</th>\n",
       "      <td>9997</td>\n",
       "      <td>6498.05</td>\n",
       "      <td>6757.972</td>\n",
       "      <td>259.922</td>\n",
       "      <td>375.38909</td>\n",
       "      <td>6731.828508</td>\n",
       "    </tr>\n",
       "    <tr>\n",
       "      <th>9998</th>\n",
       "      <td>9998</td>\n",
       "      <td>6498.70</td>\n",
       "      <td>6758.648</td>\n",
       "      <td>259.948</td>\n",
       "      <td>375.41509</td>\n",
       "      <td>6732.504508</td>\n",
       "    </tr>\n",
       "    <tr>\n",
       "      <th>9999</th>\n",
       "      <td>9999</td>\n",
       "      <td>6499.35</td>\n",
       "      <td>6759.324</td>\n",
       "      <td>259.974</td>\n",
       "      <td>375.44109</td>\n",
       "      <td>6733.180508</td>\n",
       "    </tr>\n",
       "    <tr>\n",
       "      <th>10000</th>\n",
       "      <td>10000</td>\n",
       "      <td>6500.00</td>\n",
       "      <td>6760.000</td>\n",
       "      <td>260.000</td>\n",
       "      <td>375.46709</td>\n",
       "      <td>6733.856508</td>\n",
       "    </tr>\n",
       "  </tbody>\n",
       "</table>\n",
       "<p>10000 rows × 6 columns</p>\n",
       "</div>"
      ],
      "text/plain": [
       "       Depth      HSP        FP    SIDPP       SICP          PAB\n",
       "1          1     0.65     0.676    0.026  115.49309   -25.467492\n",
       "2          2     1.30     1.352    0.052  115.51909   -24.791492\n",
       "3          3     1.95     2.028    0.078  115.54509   -24.115492\n",
       "4          4     2.60     2.704    0.104  115.57109   -23.439492\n",
       "5          5     3.25     3.380    0.130  115.59709   -22.763492\n",
       "...      ...      ...       ...      ...        ...          ...\n",
       "9996    9996  6497.40  6757.296  259.896  375.36309  6731.152508\n",
       "9997    9997  6498.05  6757.972  259.922  375.38909  6731.828508\n",
       "9998    9998  6498.70  6758.648  259.948  375.41509  6732.504508\n",
       "9999    9999  6499.35  6759.324  259.974  375.44109  6733.180508\n",
       "10000  10000  6500.00  6760.000  260.000  375.46709  6733.856508\n",
       "\n",
       "[10000 rows x 6 columns]"
      ]
     },
     "execution_count": 7,
     "metadata": {},
     "output_type": "execute_result"
    }
   ],
   "source": [
    "df = pd.DataFrame({\"Depth\": range(D+1)})\n",
    "df[\"HSP\"] = 0.052*(MW)*(df[\"Depth\"])              \n",
    "df[\"FP\"] = 0.052*(K)*(df[\"Depth\"])              \n",
    "df[\"SIDPP\"] = df[\"FP\"] -df[\"HSP\"]                   \n",
    "AC = ((ID**2)-(Dod**2))/1029.4            \n",
    "GH = V/AC                             \n",
    "df[\"SICP\"] = df[\"FP\"] - (((df[\"Depth\"]- GH)* 0.052 * MW) + HP)   \n",
    "df[\"PAB\"] = df[\"FP\"] - (GH * 0.12)           \n",
    "df.drop(0 ,axis=0)"
   ]
  },
  {
   "cell_type": "code",
   "execution_count": 14,
   "metadata": {},
   "outputs": [
    {
     "data": {
      "text/plain": [
       "<matplotlib.axes._subplots.AxesSubplot at 0x2c2e4df72c8>"
      ]
     },
     "execution_count": 14,
     "metadata": {},
     "output_type": "execute_result"
    },
    {
     "data": {
      "image/png": "[encoded data removed]",
      "text/plain": [
       "<Figure size 432x288 with 1 Axes>"
      ]
     },
     "metadata": {
      "needs_background": "light"
     },
     "output_type": "display_data"
    }
   ],
   "source": [
    "data = df[[\"SICP\",\"Depth\"]]\n",
    "data.plot.line(x=\"Depth\", y=\"SICP\")"
   ]
  },
  {
   "cell_type": "code",
   "execution_count": null,
   "metadata": {},
   "outputs": [],
   "source": []
  }
 ],
 "metadata": {
  "kernelspec": {
   "display_name": "Python 3",
   "language": "python",
   "name": "python3"
  },
  "language_info": {
   "codemirror_mode": {
    "name": "ipython",
    "version": 3
   },
   "file_extension": ".py",
   "mimetype": "text/x-python",
   "name": "python",
   "nbconvert_exporter": "python",
   "pygments_lexer": "ipython3",
   "version": "3.8.5"
  }
 },
 "nbformat": 4,
 "nbformat_minor": 4
}
