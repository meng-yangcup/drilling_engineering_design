{
 "cells": [
  {
   "cell_type": "code",
   "execution_count": 2,
   "metadata": {},
   "outputs": [],
   "source": [
    "import numpy as np\n",
    "import matplotlib.pyplot as plt\n",
    "import pandas as pd\n"
   ]
  },
  {
   "cell_type": "code",
   "execution_count": 3,
   "metadata": {},
   "outputs": [
    {
     "name": "stdout",
     "output_type": "stream",
     "text": [
      "Enter Porosity2.0\n",
      "Enter Perm.(md)8.2\n",
      "Enter pay zone thicknes(Feet)35\n",
      "Enter  Reservoir Pressure(psi)2500\n",
      "Enter Bubble Point Pressure(psi)2000\n",
      "Enter Formation Volume Factor1.4\n",
      "Enter fluid viscosity(cp)2\n",
      "Enter Total Compressibility(psi-1)0.000015\n",
      "Enter Drainage Area(Acres)800\n",
      "Enter Wellbore radius(ft)0.3\n",
      "Enter Skin Factor0\n"
     ]
    }
   ],
   "source": [
    "\n",
    "porosity = float(input(\"Enter Porosity\"))\n",
    "K = float(input(\"Enter Perm.(md)\"))\n",
    "h = float(input(\"Enter pay zone thicknes(Feet)\"))\n",
    "P = float(input(\"Enter  Reservoir Pressure(psi)\"))\n",
    "Pb = float(input(\"Enter Bubble Point Pressure(psi)\"))\n",
    "Bo = float(input(\"Enter Formation Volume Factor\"))\n",
    "Viscosity  = float(input(\"Enter fluid viscosity(cp)\"))\n",
    "ct = float(input(\"Enter Total Compressibility(psi-1)\"))\n",
    "A = float(input(\"Enter Drainage Area(Acres)\"))\n",
    "re = np.sqrt(43560*A/3.14)\n",
    "rw = float(input(\"Enter Wellbore radius(ft)\"))\n",
    "S = float(input(\"Enter Skin Factor\"))"
   ]
  },
  {
   "cell_type": "code",
   "execution_count": 4,
   "metadata": {},
   "outputs": [
    {
     "name": "stdout",
     "output_type": "stream",
     "text": [
      "The value of productivity index is 0.08475317814831412\n"
     ]
    }
   ],
   "source": [
    "J = K*h/(141.2*Bo*Viscosity*(np.log(re/rw)-0.75+S))\n",
    "print(\"The value of productivity index is\", J)"
   ]
  },
  {
   "cell_type": "code",
   "execution_count": 5,
   "metadata": {},
   "outputs": [
    {
     "name": "stdout",
     "output_type": "stream",
     "text": [
      "The value of Qmax is  117.71274742821406 stb/day\n"
     ]
    }
   ],
   "source": [
    "qmax = J*P/1.8\n",
    "print(\"The value of Qmax is \", qmax, \"stb/day\")\n"
   ]
  },
  {
   "cell_type": "code",
   "execution_count": 6,
   "metadata": {},
   "outputs": [
    {
     "data": {
      "text/plain": [
       "array([2500, 2000, 1500, 1000,  500,    0])"
      ]
     },
     "execution_count": 6,
     "metadata": {},
     "output_type": "execute_result"
    }
   ],
   "source": [
    "a = np.arange(0,2500,500)\n",
    "b = np.append(a,2500)\n",
    "pwf = b[-1::-1]\n",
    "pwf"
   ]
  },
  {
   "cell_type": "code",
   "execution_count": 7,
   "metadata": {},
   "outputs": [
    {
     "data": {
      "text/plain": [
       "array([  0.        ,  38.60978116,  69.68594648,  93.22849596,\n",
       "       109.23742961, 117.71274743])"
      ]
     },
     "execution_count": 7,
     "metadata": {},
     "output_type": "execute_result"
    }
   ],
   "source": [
    "flowrate = []\n",
    "for i in pwf:\n",
    "    q = qmax*(1-0.2*(i/P)-0.8*((i/P)**2))\n",
    "    flowrate.append(q)\n",
    "flowrates = np.array(flowrate)\n",
    "flowrates\n"
   ]
  },
  {
   "cell_type": "code",
   "execution_count": 10,
   "metadata": {},
   "outputs": [
    {
     "data": {
      "text/html": [
       "<div>\n",
       "<style scoped>\n",
       "    .dataframe tbody tr th:only-of-type {\n",
       "        vertical-align: middle;\n",
       "    }\n",
       "\n",
       "    .dataframe tbody tr th {\n",
       "        vertical-align: top;\n",
       "    }\n",
       "\n",
       "    .dataframe thead th {\n",
       "        text-align: right;\n",
       "    }\n",
       "</style>\n",
       "<table border=\"1\" class=\"dataframe\">\n",
       "  <thead>\n",
       "    <tr style=\"text-align: right;\">\n",
       "      <th></th>\n",
       "      <th>0</th>\n",
       "    </tr>\n",
       "  </thead>\n",
       "  <tbody>\n",
       "    <tr>\n",
       "      <th>2500</th>\n",
       "      <td>0.000000</td>\n",
       "    </tr>\n",
       "    <tr>\n",
       "      <th>2000</th>\n",
       "      <td>38.609781</td>\n",
       "    </tr>\n",
       "    <tr>\n",
       "      <th>1500</th>\n",
       "      <td>69.685946</td>\n",
       "    </tr>\n",
       "    <tr>\n",
       "      <th>1000</th>\n",
       "      <td>93.228496</td>\n",
       "    </tr>\n",
       "    <tr>\n",
       "      <th>500</th>\n",
       "      <td>109.237430</td>\n",
       "    </tr>\n",
       "    <tr>\n",
       "      <th>0</th>\n",
       "      <td>117.712747</td>\n",
       "    </tr>\n",
       "  </tbody>\n",
       "</table>\n",
       "</div>"
      ],
      "text/plain": [
       "               0\n",
       "2500    0.000000\n",
       "2000   38.609781\n",
       "1500   69.685946\n",
       "1000   93.228496\n",
       "500   109.237430\n",
       "0     117.712747"
      ]
     },
     "execution_count": 10,
     "metadata": {},
     "output_type": "execute_result"
    }
   ],
   "source": [
    "df = pd.DataFrame(flowrates,pwf)\n",
    "df"
   ]
  },
  {
   "cell_type": "code",
   "execution_count": 9,
   "metadata": {},
   "outputs": [
    {
     "data": {
      "image/png": "[encoded data removed]",
      "text/plain": [
       "<Figure size 432x288 with 1 Axes>"
      ]
     },
     "metadata": {
      "needs_background": "light"
     },
     "output_type": "display_data"
    }
   ],
   "source": [
    "plt.figure()\n",
    "plt.plot(flowrates,pwf)\n",
    "plt.xlabel(\"Flowrate(stb/day)\")\n",
    "plt.ylabel(\"pwf(psia)\")\n",
    "plt.title(\"Vogel's IPR for Saturated Reservoir\")\n",
    "plt.show()\n"
   ]
  },
  {
   "cell_type": "code",
   "execution_count": null,
   "metadata": {},
   "outputs": [],
   "source": [
    "#AKSHAY MANJRAMKAR"
   ]
  }
 ],
 "metadata": {
  "kernelspec": {
   "display_name": "Python 3",
   "language": "python",
   "name": "python3"
  },
  "language_info": {
   "codemirror_mode": {
    "name": "ipython",
    "version": 3
   },
   "file_extension": ".py",
   "mimetype": "text/x-python",
   "name": "python",
   "nbconvert_exporter": "python",
   "pygments_lexer": "ipython3",
   "version": "3.8.5"
  }
 },
 "nbformat": 4,
 "nbformat_minor": 4
}
